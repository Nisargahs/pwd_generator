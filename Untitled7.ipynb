{
 "cells": [
  {
   "cell_type": "code",
   "execution_count": 1,
   "id": "3f4ab8bf",
   "metadata": {},
   "outputs": [
    {
     "name": "stdout",
     "output_type": "stream",
     "text": [
      "(4,)\n",
      "[[1 2]\n",
      " [3 4]]\n"
     ]
    }
   ],
   "source": [
    "import numpy as np\n",
    "arr = np.array ([1,2,3,4])\n",
    "print(arr.shape)\n",
    "print(arr.reshape((2,2)))"
   ]
  },
  {
   "cell_type": "code",
   "execution_count": 4,
   "id": "083270a4",
   "metadata": {},
   "outputs": [
    {
     "name": "stdout",
     "output_type": "stream",
     "text": [
      "[-12   3   9  52 -37  43 -15  63  73 -89 -11   9 -64  93  76  45  53 -14\n",
      " -43 -68  18 -27 -49  57  88 -92 -36  22   3   9  52 -37  43 -15  63  73\n",
      " -89 -11   9 -64  93  76  45  53 -14 -43 -68  18 -27 -49  57  88 -92 -36\n",
      "  22   3   9  52 -37  43 -15  63  73 -89 -11   9 -64  93  76  45  53 -14\n",
      " -43 -68  18 -27 -49  57  88 -92 -36  22   1  -2  -6   3   4   1   2   3\n",
      "  -3  -4  -4  -5   3   4   1  -3  -2  -2]\n",
      "<class 'numpy.ndarray'>\n",
      "[[-12   3   9  52 -37  43 -15  63  73 -89]\n",
      " [-11   9 -64  93  76  45  53 -14 -43 -68]\n",
      " [ 18 -27 -49  57  88 -92 -36  22   3   9]\n",
      " [ 52 -37  43 -15  63  73 -89 -11   9 -64]\n",
      " [ 93  76  45  53 -14 -43 -68  18 -27 -49]\n",
      " [ 57  88 -92 -36  22   3   9  52 -37  43]\n",
      " [-15  63  73 -89 -11   9 -64  93  76  45]\n",
      " [ 53 -14 -43 -68  18 -27 -49  57  88 -92]\n",
      " [-36  22   1  -2  -6   3   4   1   2   3]\n",
      " [ -3  -4  -4  -5   3   4   1  -3  -2  -2]]\n"
     ]
    }
   ],
   "source": [
    "import numpy as np\n",
    "\n",
    "arr = np.array([-12,3,9,52,-37,43,-15,63,73,-89,-11,9,-64,93,76,45,53,-14,-43,-68,18,-27,-49,57,88,-92,-36,22,3,9,52,-37,43,-15,63,73,-89,-11,9,-64,93,76,45,53,-14,-43,-68,18,-27,-49,57,88,-92,-36,22,3,9,52,-37,43,-15,63,73,-89,-11,9,-64,93,76,45,53,-14,-43,-68,18,-27,-49,57,88,-92,-36,22,1,-2,-2-2-2,3,4,1,2,3,-3,-4,-4,-5,3,4,1,-3,-2,-2])\n",
    "\n",
    "print(arr)\n",
    "\n",
    "print(type(arr))\n",
    "\n",
    "print(arr.reshape((10,10)))"
   ]
  },
  {
   "cell_type": "code",
   "execution_count": 5,
   "id": "440ecbe0",
   "metadata": {},
   "outputs": [
    {
     "data": {
      "text/plain": [
       "array([-12,   3,   9,  52, -37,  43, -15,  63,  73, -89, -11,   9, -64,\n",
       "        93,  76,  45,  53, -14, -43, -68,  18, -27, -49,  57,  88, -92,\n",
       "       -36,  22,   3,   9,  52, -37,  43, -15,  63,  73, -89, -11,   9,\n",
       "       -64,  93,  76,  45,  53, -14, -43, -68,  18, -27, -49,  57,  88,\n",
       "       -92, -36,  22,   3,   9,  52, -37,  43, -15,  63,  73, -89, -11,\n",
       "         9, -64,  93,  76,  45,  53, -14, -43, -68,  18, -27, -49,  57,\n",
       "        88, -92, -36,  22,   1,  -2,  -6,   3,   4,   1,   2,   3,  -3,\n",
       "        -4,  -4,  -5,   3,   4,   1,  -3,  -2,  -2])"
      ]
     },
     "execution_count": 5,
     "metadata": {},
     "output_type": "execute_result"
    }
   ],
   "source": [
    "arr.flatten()"
   ]
  },
  {
   "cell_type": "code",
   "execution_count": null,
   "id": "728a7e4b",
   "metadata": {},
   "outputs": [],
   "source": []
  }
 ],
 "metadata": {
  "kernelspec": {
   "display_name": "Python 3 (ipykernel)",
   "language": "python",
   "name": "python3"
  },
  "language_info": {
   "codemirror_mode": {
    "name": "ipython",
    "version": 3
   },
   "file_extension": ".py",
   "mimetype": "text/x-python",
   "name": "python",
   "nbconvert_exporter": "python",
   "pygments_lexer": "ipython3",
   "version": "3.9.7"
  }
 },
 "nbformat": 4,
 "nbformat_minor": 5
}
