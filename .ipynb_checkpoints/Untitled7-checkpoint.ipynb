{
 "cells": [
  {
   "cell_type": "code",
   "execution_count": 1,
   "id": "1acb8f8e",
   "metadata": {},
   "outputs": [
    {
     "name": "stdout",
     "output_type": "stream",
     "text": [
      "(4,)\n",
      "[[1 2]\n",
      " [3 4]]\n"
     ]
    }
   ],
   "source": [
    "import numpy as np\n",
    "arr = np.array ([1,2,3,4])\n",
    "print(arr.shape)\n",
    "print(arr.reshape((2,2)))"
   ]
  },
  {
   "cell_type": "code",
   "execution_count": 2,
   "id": "dff8e8bc",
   "metadata": {},
   "outputs": [
    {
     "name": "stdout",
     "output_type": "stream",
     "text": [
      "[-12   3   9  52 -37  43 -15  63  73 -89 -11   9 -64  93  76  45  53 -14\n",
      " -43 -68  18 -27 -49  57  88 -92 -36  22   3   9  52 -37  43 -15  63  73\n",
      " -89 -11   9 -64  93  76  45  53 -14 -43 -68  18 -27 -49  57  88 -92 -36\n",
      "  22   3   9  52 -37  43 -15  63  73 -89 -11   9 -64  93  76  45  53 -14\n",
      " -43 -68  18 -27 -49  57  88 -92 -36  22]\n",
      "<class 'numpy.ndarray'>\n"
     ]
    },
    {
     "ename": "ValueError",
     "evalue": "cannot reshape array of size 82 into shape (8,8)",
     "output_type": "error",
     "traceback": [
      "\u001b[1;31m---------------------------------------------------------------------------\u001b[0m",
      "\u001b[1;31mValueError\u001b[0m                                Traceback (most recent call last)",
      "\u001b[1;32m~\\AppData\\Local\\Temp/ipykernel_10520/2204897619.py\u001b[0m in \u001b[0;36m<module>\u001b[1;34m\u001b[0m\n\u001b[0;32m      7\u001b[0m \u001b[0mprint\u001b[0m\u001b[1;33m(\u001b[0m\u001b[0mtype\u001b[0m\u001b[1;33m(\u001b[0m\u001b[0marr\u001b[0m\u001b[1;33m)\u001b[0m\u001b[1;33m)\u001b[0m\u001b[1;33m\u001b[0m\u001b[1;33m\u001b[0m\u001b[0m\n\u001b[0;32m      8\u001b[0m \u001b[1;33m\u001b[0m\u001b[0m\n\u001b[1;32m----> 9\u001b[1;33m \u001b[0mprint\u001b[0m\u001b[1;33m(\u001b[0m\u001b[0marr\u001b[0m\u001b[1;33m.\u001b[0m\u001b[0mreshape\u001b[0m\u001b[1;33m(\u001b[0m\u001b[1;33m(\u001b[0m\u001b[1;36m8\u001b[0m\u001b[1;33m,\u001b[0m\u001b[1;36m8\u001b[0m\u001b[1;33m)\u001b[0m\u001b[1;33m)\u001b[0m\u001b[1;33m)\u001b[0m\u001b[1;33m\u001b[0m\u001b[1;33m\u001b[0m\u001b[0m\n\u001b[0m",
      "\u001b[1;31mValueError\u001b[0m: cannot reshape array of size 82 into shape (8,8)"
     ]
    }
   ],
   "source": [
    "import numpy as np\n",
    "\n",
    "arr = np.array([-12,3,9,52,-37,43,-15,63,73,-89,-11,9,-64,93,76,45,53,-14,-43,-68,18,-27,-49,57,88,-92,-36,22,3,9,52,-37,43,-15,63,73,-89,-11,9,-64,93,76,45,53,-14,-43,-68,18,-27,-49,57,88,-92,-36,22,3,9,52,-37,43,-15,63,73,-89,-11,9,-64,93,76,45,53,-14,-43,-68,18,-27,-49,57,88,-92,-36,22,1,-2,-2-2-2,3,4,1,2,3,-3,-4,-4,-5,3,4,1])\n",
    "\n",
    "print(arr)\n",
    "\n",
    "print(type(arr))\n",
    "\n",
    "print(arr.reshape((8,8)))"
   ]
  },
  {
   "cell_type": "code",
   "execution_count": null,
   "id": "02fd49d0",
   "metadata": {},
   "outputs": [],
   "source": []
  }
 ],
 "metadata": {
  "kernelspec": {
   "display_name": "Python 3 (ipykernel)",
   "language": "python",
   "name": "python3"
  },
  "language_info": {
   "codemirror_mode": {
    "name": "ipython",
    "version": 3
   },
   "file_extension": ".py",
   "mimetype": "text/x-python",
   "name": "python",
   "nbconvert_exporter": "python",
   "pygments_lexer": "ipython3",
   "version": "3.9.7"
  }
 },
 "nbformat": 4,
 "nbformat_minor": 5
}
