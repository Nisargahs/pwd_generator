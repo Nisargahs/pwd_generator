{
 "cells": [
  {
   "cell_type": "code",
   "execution_count": null,
   "id": "e3c705ad",
   "metadata": {},
   "outputs": [],
   "source": []
  },
  {
   "cell_type": "code",
   "execution_count": null,
   "id": "dec24324",
   "metadata": {},
   "outputs": [],
   "source": [
    "import numpy as np \n",
    "arr =np.array([1,2,3,4])\n",
    "print(arr.shape)\n",
    "print(arr.reshape((2,2)))"
   ]
  },
  {
   "cell_type": "code",
   "execution_count": null,
   "id": "72b01a95",
   "metadata": {},
   "outputs": [],
   "source": [
    "print(arr)"
   ]
  },
  {
   "cell_type": "markdown",
   "id": "e348ac80",
   "metadata": {},
   "source": []
  },
  {
   "cell_type": "markdown",
   "id": "a654263f",
   "metadata": {},
   "source": [
    "import numpy as np \n",
    "arr =np.array([1,2,3,4])\n",
    "print(arr.shape)\n",
    "print(arr.reshape((2,2)))"
   ]
  }
 ],
 "metadata": {
  "kernelspec": {
   "display_name": "Python 3 (ipykernel)",
   "language": "python",
   "name": "python3"
  }
 },
 "nbformat": 4,
 "nbformat_minor": 5
}
